{
 "cells": [
  {
   "cell_type": "code",
   "execution_count": null,
   "id": "d554e7ea-e4cc-4cac-82e0-8533edb8e897",
   "metadata": {},
   "outputs": [],
   "source": [
    "# Mount your drive\n",
    "from google.colab import drive\n",
    "drive.mount('/content/drive', force_remount=True)"
   ]
  },
  {
   "cell_type": "code",
   "execution_count": null,
   "id": "d1a07911-bfdb-4b93-84b9-408d6436b2fe",
   "metadata": {},
   "outputs": [],
   "source": [
    "import sys\n",
    "sys.path.append('/content/drive/MyDrive/utep/')"
   ]
  },
  {
   "cell_type": "code",
   "execution_count": 2,
   "id": "76cf2820-147f-4104-9bc3-e9fa41bacf16",
   "metadata": {
    "tags": []
   },
   "outputs": [],
   "source": [
    "from models.patternsdb import patternsDB\n",
    "import matplotlib.pyplot as plt\n",
    "import pandas as pd \n",
    "import numpy as np\n",
    "import seaborn as sns"
   ]
  },
  {
   "cell_type": "code",
   "execution_count": null,
   "id": "8af044cf-a366-4402-9373-3706e4834dc4",
   "metadata": {},
   "outputs": [],
   "source": [
    "# Simulations will be the same for everyboey, experiments depends on git clone\n",
    "simulations_path = '/content/drive/Shareddrives/HIPPO_ML/simulations/'\n",
    "experiments_path = '/content/utep/experiments'"
   ]
  },
  {
   "cell_type": "code",
   "execution_count": null,
   "id": "1a3cb64f-c8aa-4d8e-9b87-87c8317c6824",
   "metadata": {},
   "outputs": [],
   "source": [
    "simulation_ids = []\n",
    "experiment_path = experiments_path + 'experiment000005'\n",
    "with open(experiment_path) as experiment:\n",
    "    for i, line in enumerate(experiment.readlines()):\n",
    "        if i == 0:\n",
    "            print(line)\n",
    "        else:\n",
    "            simulation_ids.append(line.split()[0])"
   ]
  },
  {
   "cell_type": "code",
   "execution_count": null,
   "id": "66b0e012-adf5-4b00-8b97-2077db54adb4",
   "metadata": {},
   "outputs": [],
   "source": [
    "# This creates 1 patternsDB python object based on a computer simulation directory\n",
    "# It is easy to visualize and analyze the data in the patternsDB object\n",
    "\n",
    "simulation_id = simulation_ids[8]\n",
    "data = patternsDB(simulations_path, *[simulation_id + '/'])\n",
    "top = np.nonzero(data.integrated_charges[:,-1])[0][-1]"
   ]
  },
  {
   "cell_type": "code",
   "execution_count": null,
   "id": "27d56dd0-f2d6-467c-8722-046039377acd",
   "metadata": {},
   "outputs": [],
   "source": [
    "# To do: what other variables in addition to 'polarizations' are available?\n",
    "# Hint: check the ./models/patternsdb.py file\n",
    "# Plot at least 2 other variables. What is the meaning of the order [:,:,top,2]?\n",
    "\n",
    "plt.imshow(data.polarizations[:,:,top,2] )"
   ]
  }
 ],
 "metadata": {
  "kernelspec": {
   "display_name": "ml_install",
   "language": "python",
   "name": "ml_install"
  },
  "language_info": {
   "codemirror_mode": {
    "name": "ipython",
    "version": 3
   },
   "file_extension": ".py",
   "mimetype": "text/x-python",
   "name": "python",
   "nbconvert_exporter": "python",
   "pygments_lexer": "ipython3",
   "version": "3.11.4"
  }
 },
 "nbformat": 4,
 "nbformat_minor": 5
}
